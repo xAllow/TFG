{
 "cells": [
  {
   "cell_type": "code",
   "execution_count": 1,
   "id": "366cdafc-39da-4d50-b994-e146534643c6",
   "metadata": {},
   "outputs": [],
   "source": [
    "import pandas as pd\n",
    "import re"
   ]
  },
  {
   "cell_type": "code",
   "execution_count": 2,
   "id": "ec5a406e-0787-4bf0-996c-2b6f3afeda56",
   "metadata": {},
   "outputs": [],
   "source": [
    "df =  pd.read_csv('atriographics_030225.csv', sep = \";\", encoding=\"utf-8\")"
   ]
  },
  {
   "cell_type": "code",
   "execution_count": 3,
   "id": "8832b0b9-d525-4a7b-b6f2-49034e2fe24e",
   "metadata": {},
   "outputs": [],
   "source": [
    "lista = df[\"Descripción\"].str.split().str[0]"
   ]
  },
  {
   "cell_type": "code",
   "execution_count": 4,
   "id": "07c9a084-dcc4-4c2e-b752-a4571522e43f",
   "metadata": {},
   "outputs": [
    {
     "data": {
      "text/plain": [
       "['(Sesiones',\n",
       " 'Aceptar',\n",
       " 'Añadida',\n",
       " 'Borrado',\n",
       " 'Cambio',\n",
       " 'Cargado',\n",
       " 'Creado',\n",
       " 'Duración',\n",
       " 'Error',\n",
       " 'Generar',\n",
       " 'Intento',\n",
       " 'Limpiar',\n",
       " 'Login',\n",
       " 'Logout',\n",
       " 'Nuevo',\n",
       " 'Solicitud',\n",
       " 'Visualizar']"
      ]
     },
     "execution_count": 4,
     "metadata": {},
     "output_type": "execute_result"
    }
   ],
   "source": [
    "sorted(lista.unique())"
   ]
  },
  {
   "cell_type": "code",
   "execution_count": 5,
   "id": "fa77c13b-1099-4704-9578-d55bde9cff08",
   "metadata": {},
   "outputs": [
    {
     "data": {
      "text/plain": [
       "17"
      ]
     },
     "execution_count": 5,
     "metadata": {},
     "output_type": "execute_result"
    }
   ],
   "source": [
    "len(lista.unique())"
   ]
  },
  {
   "cell_type": "code",
   "execution_count": 6,
   "id": "cf595d17-2ff3-45da-baaf-ec1f5d76b54e",
   "metadata": {},
   "outputs": [],
   "source": [
    "mapeo_eventos = {\n",
    "    '(Sesiones': lambda x: \"CONEXION\" if re.search(r'\\bconectada\\b', x.lower()) else \"DESCONEXION\",\n",
    "    'Aceptar': \"ACEPTAR_PRIVACIDAD\",       \n",
    "    'Añadida': \"AÑADIR_PIEZA\",\n",
    "    'Borrado': \"BORRAR_DISEÑO\",          \n",
    "    'Cambio': \"CAMBIO_CONTRASEÑA\",              \n",
    "    'Cargado': \"CARGAR_DISENO\",\n",
    "    'Creado': \"CREAR_DISENO\",\n",
    "    'Duración': \"DURACION\",             \n",
    "    'Error': \"ERROR_SISTEMA\",          \n",
    "    'Generar': lambda x: \"GEN_PRESUPUESTO\" if re.search(r'\\bpresupuesto\\b', x.lower()) else \"GEN_PEDIDO\",\n",
    "    'Intento': \"INTENTO_RESET\",       \n",
    "    'Limpiar': \"LIMPIAR_DATOS\",        \n",
    "    'Login': \"LOGIN\",\n",
    "    'Logout': \"LOGOUT\",\n",
    "    'Nuevo': \"NUEVO_LOGO\",              \n",
    "    'Solicitud': \"SOLICITUD_RESET\",            \n",
    "    'Visualizar': lambda x: \"VER_PRESUPUESTO\" if re.search(r'\\bpresupuesto\\b', x.lower()) else \"VER_PEDIDO\",\n",
    "}"
   ]
  },
  {
   "cell_type": "code",
   "execution_count": 7,
   "id": "60756075-6ba7-4256-840a-eada39182c04",
   "metadata": {},
   "outputs": [],
   "source": [
    "def categorizar_evento(descripcion):\n",
    "    descripcion = str(descripcion)\n",
    "    primera_palabra = descripcion.split()[0]\n",
    "    \n",
    "    if primera_palabra in mapeo_eventos:\n",
    "        if callable(mapeo_eventos[primera_palabra]):\n",
    "            return mapeo_eventos[primera_palabra](descripcion)\n",
    "        else:\n",
    "            return mapeo_eventos[primera_palabra]\n",
    "    else:\n",
    "        return \"OTRO\""
   ]
  },
  {
   "cell_type": "code",
   "execution_count": 8,
   "id": "55205910-e9af-419a-94ca-0c9539f86b35",
   "metadata": {},
   "outputs": [],
   "source": [
    "df[\"Evento\"] = df[\"Descripción\"].apply(categorizar_evento)"
   ]
  },
  {
   "cell_type": "code",
   "execution_count": 9,
   "id": "49cfa33e-b55c-45a1-b0f9-387f9e7b1af7",
   "metadata": {},
   "outputs": [
    {
     "data": {
      "text/html": [
       "<div>\n",
       "<style scoped>\n",
       "    .dataframe tbody tr th:only-of-type {\n",
       "        vertical-align: middle;\n",
       "    }\n",
       "\n",
       "    .dataframe tbody tr th {\n",
       "        vertical-align: top;\n",
       "    }\n",
       "\n",
       "    .dataframe thead th {\n",
       "        text-align: right;\n",
       "    }\n",
       "</style>\n",
       "<table border=\"1\" class=\"dataframe\">\n",
       "  <thead>\n",
       "    <tr style=\"text-align: right;\">\n",
       "      <th></th>\n",
       "      <th>Descripción</th>\n",
       "      <th>Evento</th>\n",
       "    </tr>\n",
       "  </thead>\n",
       "  <tbody>\n",
       "    <tr>\n",
       "      <th>2041</th>\n",
       "      <td>Solicitud resetear contraseña userID: 8724</td>\n",
       "      <td>SOLICITUD_RESET</td>\n",
       "    </tr>\n",
       "    <tr>\n",
       "      <th>2140</th>\n",
       "      <td>Solicitud resetear contraseña userID: 17896</td>\n",
       "      <td>SOLICITUD_RESET</td>\n",
       "    </tr>\n",
       "    <tr>\n",
       "      <th>6143</th>\n",
       "      <td>Solicitud resetear contraseña userID: 12832</td>\n",
       "      <td>SOLICITUD_RESET</td>\n",
       "    </tr>\n",
       "    <tr>\n",
       "      <th>6148</th>\n",
       "      <td>Solicitud resetear contraseña userID: 12832</td>\n",
       "      <td>SOLICITUD_RESET</td>\n",
       "    </tr>\n",
       "    <tr>\n",
       "      <th>9567</th>\n",
       "      <td>Solicitud resetear contraseña userID: 20704</td>\n",
       "      <td>SOLICITUD_RESET</td>\n",
       "    </tr>\n",
       "    <tr>\n",
       "      <th>9828</th>\n",
       "      <td>Solicitud resetear contraseña userID: 16644</td>\n",
       "      <td>SOLICITUD_RESET</td>\n",
       "    </tr>\n",
       "    <tr>\n",
       "      <th>12109</th>\n",
       "      <td>Solicitud resetear contraseña userID: 7910</td>\n",
       "      <td>SOLICITUD_RESET</td>\n",
       "    </tr>\n",
       "    <tr>\n",
       "      <th>18238</th>\n",
       "      <td>Solicitud resetear contraseña userID: 1842</td>\n",
       "      <td>SOLICITUD_RESET</td>\n",
       "    </tr>\n",
       "    <tr>\n",
       "      <th>22076</th>\n",
       "      <td>Solicitud resetear contraseña userID: 15182</td>\n",
       "      <td>SOLICITUD_RESET</td>\n",
       "    </tr>\n",
       "    <tr>\n",
       "      <th>22464</th>\n",
       "      <td>Solicitud resetear contraseña userID: 250</td>\n",
       "      <td>SOLICITUD_RESET</td>\n",
       "    </tr>\n",
       "  </tbody>\n",
       "</table>\n",
       "</div>"
      ],
      "text/plain": [
       "                                       Descripción           Evento\n",
       "2041    Solicitud resetear contraseña userID: 8724  SOLICITUD_RESET\n",
       "2140   Solicitud resetear contraseña userID: 17896  SOLICITUD_RESET\n",
       "6143   Solicitud resetear contraseña userID: 12832  SOLICITUD_RESET\n",
       "6148   Solicitud resetear contraseña userID: 12832  SOLICITUD_RESET\n",
       "9567   Solicitud resetear contraseña userID: 20704  SOLICITUD_RESET\n",
       "9828   Solicitud resetear contraseña userID: 16644  SOLICITUD_RESET\n",
       "12109   Solicitud resetear contraseña userID: 7910  SOLICITUD_RESET\n",
       "18238   Solicitud resetear contraseña userID: 1842  SOLICITUD_RESET\n",
       "22076  Solicitud resetear contraseña userID: 15182  SOLICITUD_RESET\n",
       "22464    Solicitud resetear contraseña userID: 250  SOLICITUD_RESET"
      ]
     },
     "execution_count": 9,
     "metadata": {},
     "output_type": "execute_result"
    }
   ],
   "source": [
    "df[df['Evento'] == 'SOLICITUD_RESET'][['Descripción', 'Evento']].head(10)"
   ]
  },
  {
   "cell_type": "code",
   "execution_count": 10,
   "id": "f863779a-2a1e-4452-9fc0-6a865cb5b9ce",
   "metadata": {},
   "outputs": [],
   "source": [
    "def extraer_columnas(row):\n",
    "    evento = row['Evento']\n",
    "    desc = row['Descripción']\n",
    "    if pd.isna(desc):\n",
    "        return {}\n",
    "\n",
    "    if evento == 'AÑADIR_PIEZA':\n",
    "        return {\n",
    "            'pieza': buscar(r'pieza ([\\w-]+)', desc),\n",
    "            'piezaid': buscar(r'id (\\d+)', desc),\n",
    "            'catalogo': buscar(r'catálogo (.*?) en el diseño', desc),\n",
    "            'diseñoid': buscar(r'diseño con id: (-?\\d+)', desc)\n",
    "        }\n",
    "\n",
    "    elif evento == 'LOGIN' or evento == 'LOGOUT' or evento == 'SOLICITUD_RESET' or evento == 'ACEPTAR_PRIVACIDAD' or evento == 'CAMBIO_CONTRASEÑA':\n",
    "        return {\n",
    "            'userid': buscar(r'userID: (\\w+)', desc)\n",
    "        }\n",
    "    elif evento == 'GEN_PEDIDO':\n",
    "        return {\n",
    "            'diseñoid': buscar(r'diseño con id: (-?\\d+)', desc),\n",
    "            'fabricante': buscar(r'fabricante (.*)', desc)\n",
    "        }\n",
    "\n",
    "    elif evento == 'CREAR_DISENO' or evento == 'CARGAR_DISENO' or evento == 'GEN_PRESUPUESTO' or evento == 'VER_PRESUPUESTO' or evento == 'ERROR_SISTEMA' or evento == 'BORRAR_DISEÑO' or evento == 'VER_PEDIDO':\n",
    "        return {\n",
    "            'diseñoid': buscar(r'diseño con id: (-?\\d+)', desc)\n",
    "        }\n",
    "\n",
    "    elif evento == 'INTENTO_RESET':\n",
    "        return {\n",
    "            'email': buscar(r'email[:\\s]+(\\S+)', desc)\n",
    "        }\n",
    "\n",
    "    elif evento == 'DURACION':\n",
    "        return {\n",
    "            'minutos': buscar(r'Duración de la sesión:\\s*([\\d.]+)', desc)\n",
    "        }\n",
    "\n",
    "    elif evento == 'NUEVO_LOGO':\n",
    "        return {\n",
    "            'logo': buscar(r'logo[:\\s]+(\\w+)', desc)\n",
    "        }\n",
    "\n",
    "    elif evento == 'CONEXION' or evento == 'DESCONEXION':\n",
    "        return {\n",
    "            'nsesiones': buscar(r'activas (\\d+)', desc)\n",
    "        }\n",
    "    return {}\n",
    "def buscar(patron, texto):\n",
    "    match = re.search(patron, texto)\n",
    "    return match.group(1) if match else None"
   ]
  },
  {
   "cell_type": "code",
   "execution_count": 11,
   "id": "798c47f8-6f4a-4e78-b406-9c7301640194",
   "metadata": {},
   "outputs": [],
   "source": [
    "df_extra = df.apply(extraer_columnas, axis=1, result_type='expand')"
   ]
  },
  {
   "cell_type": "code",
   "execution_count": 12,
   "id": "3a871e32-c4f4-4775-ad96-963e4d473816",
   "metadata": {},
   "outputs": [],
   "source": [
    "df['Fecha'] = pd.to_datetime(df['Fecha'], format='%d/%m/%Y %H:%M', errors='coerce')"
   ]
  },
  {
   "cell_type": "code",
   "execution_count": 13,
   "id": "f8c9bd26-f6d9-45b3-9650-5c7cef9fa829",
   "metadata": {},
   "outputs": [],
   "source": [
    "df = pd.concat([df, df_extra], axis=1)"
   ]
  },
  {
   "cell_type": "code",
   "execution_count": 14,
   "id": "54e8785b-7ef8-454e-8fb4-20001c0bae55",
   "metadata": {},
   "outputs": [],
   "source": [
    "tipo_numerico = ['minutos']\n",
    "df[tipo_numerico] = df[tipo_numerico].apply(pd.to_numeric, errors='coerce')"
   ]
  },
  {
   "cell_type": "code",
   "execution_count": 15,
   "id": "7893611d-694f-4a2a-b4cd-e5c1209a1dcf",
   "metadata": {},
   "outputs": [],
   "source": [
    "tipo_int = ['nsesiones', 'piezaid', 'diseñoid', 'userid']\n",
    "df[tipo_int] = df[tipo_int].apply(lambda x: x.astype('Int64'))"
   ]
  },
  {
   "cell_type": "code",
   "execution_count": 16,
   "id": "e8467fdb-79fe-4036-b59d-58cb49aa175a",
   "metadata": {},
   "outputs": [
    {
     "name": "stdout",
     "output_type": "stream",
     "text": [
      "<class 'pandas.core.frame.DataFrame'>\n",
      "RangeIndex: 74307 entries, 0 to 74306\n",
      "Data columns (total 17 columns):\n",
      " #   Column       Non-Null Count  Dtype         \n",
      "---  ------       --------------  -----         \n",
      " 0   Fecha        74307 non-null  datetime64[ns]\n",
      " 1   Usuario      74307 non-null  object        \n",
      " 2   ID           74307 non-null  int64         \n",
      " 3   Acceso       74307 non-null  object        \n",
      " 4   Descripción  74307 non-null  object        \n",
      " 5   IP           74307 non-null  object        \n",
      " 6   Evento       74307 non-null  object        \n",
      " 7   nsesiones    15323 non-null  Int64         \n",
      " 8   pieza        32807 non-null  object        \n",
      " 9   piezaid      32807 non-null  Int64         \n",
      " 10  catalogo     32807 non-null  object        \n",
      " 11  diseñoid     42825 non-null  Int64         \n",
      " 12  userid       10979 non-null  Int64         \n",
      " 13  minutos      4893 non-null   float64       \n",
      " 14  fabricante   86 non-null     object        \n",
      " 15  logo         7 non-null      object        \n",
      " 16  email        5 non-null      object        \n",
      "dtypes: Int64(4), datetime64[ns](1), float64(1), int64(1), object(10)\n",
      "memory usage: 9.9+ MB\n"
     ]
    }
   ],
   "source": [
    "df.info()"
   ]
  },
  {
   "cell_type": "code",
   "execution_count": 17,
   "id": "68d71d22-391f-4654-9afe-4805cab85627",
   "metadata": {},
   "outputs": [],
   "source": [
    "df.to_parquet(\"logs.parquet\",index=False)"
   ]
  },
  {
   "cell_type": "code",
   "execution_count": 18,
   "id": "5624b964-e458-40d2-a345-98e585917bdd",
   "metadata": {},
   "outputs": [],
   "source": [
    "df.to_csv(\"logs.csv\",index=False)"
   ]
  }
 ],
 "metadata": {
  "kernelspec": {
   "display_name": "Python 3",
   "language": "python",
   "name": "python3"
  },
  "language_info": {
   "codemirror_mode": {
    "name": "ipython",
    "version": 3
   },
   "file_extension": ".py",
   "mimetype": "text/x-python",
   "name": "python",
   "nbconvert_exporter": "python",
   "pygments_lexer": "ipython3",
   "version": "3.11.0"
  }
 },
 "nbformat": 4,
 "nbformat_minor": 5
}
