{
 "cells": [
  {
   "cell_type": "code",
   "execution_count": 1,
   "id": "356edfca-a636-4a6e-867f-a3fd7fd98d78",
   "metadata": {},
   "outputs": [
    {
     "ename": "ModuleNotFoundError",
     "evalue": "No module named 'mlxtend'",
     "output_type": "error",
     "traceback": [
      "\u001b[1;31m---------------------------------------------------------------------------\u001b[0m",
      "\u001b[1;31mModuleNotFoundError\u001b[0m                       Traceback (most recent call last)",
      "Cell \u001b[1;32mIn[1], line 4\u001b[0m\n\u001b[0;32m      2\u001b[0m \u001b[38;5;28;01mimport\u001b[39;00m \u001b[38;5;21;01mmatplotlib\u001b[39;00m\u001b[38;5;21;01m.\u001b[39;00m\u001b[38;5;21;01mpyplot\u001b[39;00m \u001b[38;5;28;01mas\u001b[39;00m \u001b[38;5;21;01mplt\u001b[39;00m\n\u001b[0;32m      3\u001b[0m \u001b[38;5;28;01mimport\u001b[39;00m \u001b[38;5;21;01mseaborn\u001b[39;00m \u001b[38;5;28;01mas\u001b[39;00m \u001b[38;5;21;01msns\u001b[39;00m\n\u001b[1;32m----> 4\u001b[0m \u001b[38;5;28;01mfrom\u001b[39;00m \u001b[38;5;21;01mmlxtend\u001b[39;00m\u001b[38;5;21;01m.\u001b[39;00m\u001b[38;5;21;01mfrequent_patterns\u001b[39;00m \u001b[38;5;28;01mimport\u001b[39;00m apriori\n\u001b[0;32m      5\u001b[0m \u001b[38;5;28;01mfrom\u001b[39;00m \u001b[38;5;21;01mmlxtend\u001b[39;00m\u001b[38;5;21;01m.\u001b[39;00m\u001b[38;5;21;01mpreprocessing\u001b[39;00m \u001b[38;5;28;01mimport\u001b[39;00m TransactionEncoder\n\u001b[0;32m      6\u001b[0m \u001b[38;5;28;01mfrom\u001b[39;00m \u001b[38;5;21;01mmlxtend\u001b[39;00m\u001b[38;5;21;01m.\u001b[39;00m\u001b[38;5;21;01mfrequent_patterns\u001b[39;00m \u001b[38;5;28;01mimport\u001b[39;00m association_rules\n",
      "\u001b[1;31mModuleNotFoundError\u001b[0m: No module named 'mlxtend'"
     ]
    }
   ],
   "source": [
    "import pandas as pd\n",
    "import matplotlib.pyplot as plt\n",
    "import seaborn as sns\n",
    "from mlxtend.frequent_patterns import apriori\n",
    "from mlxtend.preprocessing import TransactionEncoder\n",
    "from mlxtend.frequent_patterns import association_rules"
   ]
  },
  {
   "cell_type": "code",
   "execution_count": null,
   "id": "ea3bf1b5-4b2e-428b-ad8f-98f23ff606b0",
   "metadata": {},
   "outputs": [],
   "source": [
    "df =  pd.read_parquet('logs.parquet')"
   ]
  },
  {
   "cell_type": "markdown",
   "id": "a954544a",
   "metadata": {},
   "source": [
    "# Reglas de asociación"
   ]
  },
  {
   "cell_type": "markdown",
   "id": "87574f74",
   "metadata": {},
   "source": [
    "## Filtrado y exploracion de los datos"
   ]
  },
  {
   "cell_type": "markdown",
   "id": "2af43c84",
   "metadata": {},
   "source": [
    "Observación de cuantas piezas unicas hay en nuestro conjunto, descartando aquellas a las que pertenecen a un diseño no válido, y cuantas operaciones han habido."
   ]
  },
  {
   "cell_type": "code",
   "execution_count": null,
   "id": "0249beff-c3f4-41cb-887d-7c7a072938c6",
   "metadata": {},
   "outputs": [],
   "source": [
    "añadir_pieza = df[(df['Evento'] == 'AÑADIR_PIEZA') & (df['diseñoid'] >= 1)].copy()\n",
    "añadir_pieza = añadir_pieza[['pieza','diseñoid']]\n",
    "print(añadir_pieza.head(10))\n",
    "print(f\"Número total de transacciones: {añadir_pieza['diseñoid'].nunique()}\")\n",
    "print(f\"Número total de ítems (productos): {añadir_pieza['pieza'].nunique()}\")"
   ]
  },
  {
   "cell_type": "markdown",
   "id": "625e49ee",
   "metadata": {},
   "source": [
    "## Observación del tamaño de las transacciones"
   ]
  },
  {
   "cell_type": "code",
   "execution_count": null,
   "id": "89751cdf-a38f-42af-8d3d-304637d230f4",
   "metadata": {},
   "outputs": [],
   "source": [
    "print(añadir_pieza.groupby('diseñoid')['pieza'].size().describe(percentiles=[.25, .5, .75, .9]))\n",
    "fig, ax = plt.subplots(figsize=(7, 3))\n",
    "añadir_pieza.groupby('diseñoid')['pieza'].size().plot.hist(ax=ax)\n",
    "ax.set_title('Distribución del tamaño de las transacciones');\n",
    "ax.set_xlabel('Número de ítems');"
   ]
  },
  {
   "cell_type": "markdown",
   "id": "f39d07fb",
   "metadata": {},
   "source": [
    "Podemos observar como la mayoría de los usuarios escogen entre 3 y 17 piezas, siendo una media de 12 piezas por diseño, además el 90% escogen menos de 29 piezas  "
   ]
  },
  {
   "cell_type": "markdown",
   "id": "c4a640e2",
   "metadata": {},
   "source": [
    "## Transformacion del dataframe en transacciones"
   ]
  },
  {
   "cell_type": "code",
   "execution_count": null,
   "id": "0fc17e90-0919-475b-8839-ff93dc259873",
   "metadata": {},
   "outputs": [],
   "source": [
    "transacciones = añadir_pieza.groupby('diseñoid')['pieza'].apply(list).to_list()\n",
    "te = TransactionEncoder()\n",
    "te_ary = te.fit(transacciones).transform(transacciones)\n",
    "df_transacciones = pd.DataFrame(te_ary, columns=te.columns_)\n",
    "df_transacciones.head(5)"
   ]
  },
  {
   "cell_type": "markdown",
   "id": "148237d5",
   "metadata": {},
   "source": [
    "## Aplicación del algoritmo apriori"
   ]
  },
  {
   "cell_type": "markdown",
   "id": "92ebf1bc",
   "metadata": {},
   "source": [
    "Uso un soporte mínimio del 0.003 para que me genere las suficientes reglas para poder trabajar con ellas."
   ]
  },
  {
   "cell_type": "code",
   "execution_count": null,
   "id": "8bc7aa2a",
   "metadata": {},
   "outputs": [],
   "source": [
    "itemsets = apriori(df_transacciones, min_support=0.003, use_colnames=True)"
   ]
  },
  {
   "cell_type": "markdown",
   "id": "e8acb77d",
   "metadata": {},
   "source": [
    "Ordeno los itemsets por frecuencia de manera descendente"
   ]
  },
  {
   "cell_type": "code",
   "execution_count": null,
   "id": "7cc65444-87d2-44cc-b53e-f939f15b5df1",
   "metadata": {},
   "outputs": [],
   "source": [
    "\n",
    "itemsets['n_items'] = itemsets['itemsets'].apply(len)\n",
    "itemsets.sort_values(by='support', ascending=False)"
   ]
  },
  {
   "cell_type": "markdown",
   "id": "9d28fed5",
   "metadata": {},
   "source": [
    "Filtro los itemsets que únicamente contienen un item"
   ]
  },
  {
   "cell_type": "code",
   "execution_count": null,
   "id": "31443525",
   "metadata": {},
   "outputs": [],
   "source": [
    "itemsets.query('n_items >= 2').sort_values('support', ascending=False)"
   ]
  },
  {
   "cell_type": "markdown",
   "id": "0af2e3b4",
   "metadata": {},
   "source": [
    "### Generación de las Reglas de Asociación"
   ]
  },
  {
   "cell_type": "code",
   "execution_count": null,
   "id": "a132d248",
   "metadata": {},
   "outputs": [],
   "source": [
    "reglas = association_rules(itemsets, metric=\"confidence\", min_threshold=0.1)\n",
    "columnas = ['antecedents', 'consequents','support','confidence','lift']\n",
    "reglas = reglas[columnas]\n",
    "reglas.tail(10)\n"
   ]
  },
  {
   "cell_type": "markdown",
   "id": "4aeddc83",
   "metadata": {},
   "source": [
    "### Filtrado de reglas"
   ]
  },
  {
   "cell_type": "code",
   "execution_count": null,
   "id": "56a27067",
   "metadata": {},
   "outputs": [],
   "source": [
    "reglas_support = reglas[reglas['support'] > 0.003]\n",
    "reglas_support"
   ]
  },
  {
   "cell_type": "code",
   "execution_count": null,
   "id": "8a0b7dc7",
   "metadata": {},
   "outputs": [],
   "source": [
    "reglas_antecentes = reglas_support[reglas_support['antecedents'].apply(lambda x: len(x) > 1)]\n",
    "reglas_antecentes.head(10)"
   ]
  },
  {
   "cell_type": "code",
   "execution_count": null,
   "id": "a0bfbcd7",
   "metadata": {},
   "outputs": [],
   "source": [
    "reglas_antecentes.sort_values(by = 'lift', ascending = False).head(10)"
   ]
  },
  {
   "cell_type": "code",
   "execution_count": null,
   "id": "7a5d3a1e",
   "metadata": {},
   "outputs": [],
   "source": [
    "plt.figure(figsize=(8, 6))\n",
    "plt.scatter(reglas['support'], reglas['confidence'], alpha=0.5)\n",
    "plt.title('Soporte vs. Confianza')\n",
    "plt.xlabel('Soporte')\n",
    "plt.ylabel('Confianza')\n",
    "plt.show()"
   ]
  },
  {
   "cell_type": "code",
   "execution_count": null,
   "id": "0ed7280b",
   "metadata": {},
   "outputs": [],
   "source": [
    "# Visualizar soporte vs lift o confianza vs lift\n",
    "reglas.nunique()"
   ]
  },
  {
   "cell_type": "markdown",
   "id": "2afd0c7c",
   "metadata": {},
   "source": [
    "## Recomendador de piezas"
   ]
  },
  {
   "cell_type": "code",
   "execution_count": null,
   "id": "b5288bb8",
   "metadata": {},
   "outputs": [],
   "source": [
    "def recomendar_piezas(piezas_usuario, reglas, top_n=5):\n",
    "    reglas_validas = reglas[reglas['antecedents'].apply(lambda x: x.issubset(piezas_usuario))]\n",
    "    \n",
    "    reglas_validas = reglas_validas.sort_values(['confidence', 'lift'], ascending=False)\n",
    "    \n",
    "\n",
    "    piezas_recomendadas = []\n",
    "    for consequents in reglas_validas['consequents']:\n",
    "        for pieza in consequents:\n",
    "            if pieza not in piezas_usuario and pieza not in piezas_recomendadas:\n",
    "                piezas_recomendadas.append(pieza)\n",
    "                if len(piezas_recomendadas) >= top_n:\n",
    "                    return piezas_recomendadas\n",
    "    return piezas_recomendadas"
   ]
  },
  {
   "cell_type": "code",
   "execution_count": null,
   "id": "8f584d85",
   "metadata": {},
   "outputs": [],
   "source": [
    "piezas_usuario = {'ED-PPC-02'}\n",
    "recomendaciones = recomendar_piezas(piezas_usuario, reglas, top_n=6)\n",
    "\n",
    "print(\"Piezas recomendadas:\", recomendaciones)"
   ]
  }
 ],
 "metadata": {
  "kernelspec": {
   "display_name": "Python 3 (ipykernel)",
   "language": "python",
   "name": "python3"
  },
  "language_info": {
   "codemirror_mode": {
    "name": "ipython",
    "version": 3
   },
   "file_extension": ".py",
   "mimetype": "text/x-python",
   "name": "python",
   "nbconvert_exporter": "python",
   "pygments_lexer": "ipython3",
   "version": "3.11.9"
  }
 },
 "nbformat": 4,
 "nbformat_minor": 5
}
